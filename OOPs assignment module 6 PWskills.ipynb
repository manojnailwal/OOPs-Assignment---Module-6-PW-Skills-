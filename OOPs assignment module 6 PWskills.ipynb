{
 "cells": [
  {
   "cell_type": "markdown",
   "id": "fbedda8d-0c4c-411c-99a8-c23a5378ae2a",
   "metadata": {},
   "source": [
    "<h1>OOPs Assingment Module 6 :</h1>"
   ]
  },
  {
   "cell_type": "markdown",
   "id": "b85f9f7a-27e3-4e0e-9fff-c82cca6c693e",
   "metadata": {},
   "source": [
    "<h3> Questions and Answeres :</h3>"
   ]
  },
  {
   "cell_type": "code",
   "execution_count": 1,
   "id": "12a44073-dd5d-4bc0-a01c-e6588279b9c6",
   "metadata": {},
   "outputs": [],
   "source": [
    "# Ques - 1 -:  What are the five key concepts of Object-Oriented Programming (OOP)?"
   ]
  },
  {
   "cell_type": "code",
   "execution_count": 2,
   "id": "69c8e540-91e9-46fd-8143-c9994f2292d2",
   "metadata": {},
   "outputs": [
    {
     "data": {
      "text/plain": [
       "'\\n\\nThe five key concepts of Object-Oriented Programming (OOP) are:\\n\\n1. Class: A class is a blueprint for creating objects. It defines a type, including attributes (properties) and methods (functions), which the objects of the class will have. Think of it like a template. For example, a \"Car\" class could have attributes like color, model, and speed.\\n\\n2. Object: An object is an instance of a class. It’s a specific example that follows the blueprint of the class. So, if \"Car\" is a class, then a \"red Ferrari\" could be an object created from it. Each object can have different values for the class\\'s attributes.\\n\\n3. Encapsulation: Encapsulation means bundling data (attributes) and methods (functions) together in a single unit or class. It also involves restricting direct access to some of the class’s details, usually using access modifiers (like private or public). This protects data and keeps the internal workings of an object hidden from the outside world, allowing only specific interactions.\\n\\n4. Inheritance: Inheritance allows a class to inherit properties and methods from another class. This helps in reusing code and creating a hierarchical relationship between classes. For example, if there’s a class called \"Vehicle,\" a \"Car\" class can inherit from it, gaining its attributes and methods, and adding more specific features unique to cars.\\n\\n5. Polymorphism: Polymorphism means \"many forms.\" It allows objects to be treated as instances of their parent class even if they behave differently. With polymorphism, a single method can perform different functions based on the object calling it. This makes code more flexible and reusable.\\n\\n\\n\\n'"
      ]
     },
     "execution_count": 2,
     "metadata": {},
     "output_type": "execute_result"
    }
   ],
   "source": [
    "# Ans -:\n",
    "\n",
    "\"\"\"\n",
    "\n",
    "The five key concepts of Object-Oriented Programming (OOP) are:\n",
    "\n",
    "1. Class: A class is a blueprint for creating objects. It defines a type, including attributes (properties) and methods (functions), which the objects of the class will have. Think of it like a template. For example, a \"Car\" class could have attributes like color, model, and speed.\n",
    "\n",
    "2. Object: An object is an instance of a class. It’s a specific example that follows the blueprint of the class. So, if \"Car\" is a class, then a \"red Ferrari\" could be an object created from it. Each object can have different values for the class's attributes.\n",
    "\n",
    "3. Encapsulation: Encapsulation means bundling data (attributes) and methods (functions) together in a single unit or class. It also involves restricting direct access to some of the class’s details, usually using access modifiers (like private or public). This protects data and keeps the internal workings of an object hidden from the outside world, allowing only specific interactions.\n",
    "\n",
    "4. Inheritance: Inheritance allows a class to inherit properties and methods from another class. This helps in reusing code and creating a hierarchical relationship between classes. For example, if there’s a class called \"Vehicle,\" a \"Car\" class can inherit from it, gaining its attributes and methods, and adding more specific features unique to cars.\n",
    "\n",
    "5. Polymorphism: Polymorphism means \"many forms.\" It allows objects to be treated as instances of their parent class even if they behave differently. With polymorphism, a single method can perform different functions based on the object calling it. This makes code more flexible and reusable.\n",
    "\n",
    "\n",
    "\n",
    "\"\"\""
   ]
  },
  {
   "cell_type": "code",
   "execution_count": 3,
   "id": "d7c16d1b-660e-4046-b0bf-ecb908fcffdf",
   "metadata": {},
   "outputs": [],
   "source": [
    "# Ques - 2 -: Write a Python class for a `Car` with attributes for `make`, `model`, and `year`. Include a method to display the car's information."
   ]
  },
  {
   "cell_type": "code",
   "execution_count": 4,
   "id": "09ec8ad6-af9e-4d3b-8a0c-aff75f56e330",
   "metadata": {},
   "outputs": [
    {
     "name": "stdout",
     "output_type": "stream",
     "text": [
      "Car Info: 2021 Toyota Camry\n"
     ]
    }
   ],
   "source": [
    "# Ans -:\n",
    "\n",
    "class Car:\n",
    "    def __init__(self, make, model, year):\n",
    "        self.make = make\n",
    "        self.model = model\n",
    "        self.year = year\n",
    "\n",
    "    def display_info(self):\n",
    "        print(f\"Car Info: {self.year} {self.make} {self.model}\")\n",
    "\n",
    "# Example of creating an object and displaying its information\n",
    "\n",
    "\n",
    "my_car = Car(\"Toyota\", \"Camry\", 2021)\n",
    "my_car.display_info()\n",
    "\n"
   ]
  },
  {
   "cell_type": "code",
   "execution_count": 5,
   "id": "74e170df-c95a-472b-aeb3-6c7cb419ed19",
   "metadata": {},
   "outputs": [],
   "source": [
    "# Ques - 3 -:  Explain the difference between instance methods and class methods. Provide an example of each."
   ]
  },
  {
   "cell_type": "code",
   "execution_count": 6,
   "id": "50505d70-55cf-4300-abbf-24db519303d3",
   "metadata": {},
   "outputs": [
    {
     "name": "stdout",
     "output_type": "stream",
     "text": [
      "Car Info: 2021 Toyota Camry\n",
      "6\n",
      "6\n"
     ]
    }
   ],
   "source": [
    "# Ans -:\n",
    "\n",
    "\"\"\"\n",
    "\n",
    "The main difference between instance methods and class methods in Python is in how they are defined and used:\n",
    "\n",
    "1- Instance Methods:\n",
    "\n",
    "These are methods that operate on instances (objects) of a class.\n",
    "They can access and modify the attributes specific to the object.\n",
    "Instance methods take self as their first parameter, representing the instance calling the method.\n",
    "\n",
    "\n",
    "2- Class Methods:\n",
    "\n",
    "Class methods are used to operate on the class itself rather than on an instance.\n",
    "They can access or modify class-level variables that are shared across all instances.\n",
    "Class methods take cls as their first parameter, representing the class rather than an instance.\n",
    "To define a class method, you use the @classmethod decorator.\n",
    "\n",
    "\"\"\"\n",
    "\n",
    "class Car:\n",
    "    # Class attribute shared across all instances\n",
    "    wheels = 4\n",
    "\n",
    "    def __init__(self, make, model, year):\n",
    "        # Instance attributes unique to each instance\n",
    "        self.make = make\n",
    "        self.model = model\n",
    "        self.year = year\n",
    "\n",
    "    # Instance method\n",
    "    def display_info(self):\n",
    "        return f\"Car Info: {self.year} {self.make} {self.model}\"\n",
    "\n",
    "    # Class method\n",
    "    @classmethod\n",
    "    def change_wheels(cls, new_wheels):\n",
    "        cls.wheels = new_wheels\n",
    "\n",
    "# Creating an instance of Car\n",
    "my_car = Car(\"Toyota\", \"Camry\", 2021)\n",
    "\n",
    "# Calling the instance method\n",
    "print(my_car.display_info())  # Outputs: Car Info: 2021 Toyota Camry\n",
    "\n",
    "# Calling the class method\n",
    "Car.change_wheels(6)\n",
    "print(Car.wheels)  # Outputs: 6\n",
    "print(my_car.wheels)  # Also outputs: 6, since 'wheels' is a class attribute\n"
   ]
  },
  {
   "cell_type": "code",
   "execution_count": 7,
   "id": "b3c4ed34-843f-4329-9984-0ba54308202e",
   "metadata": {},
   "outputs": [],
   "source": [
    "# Ques - 4 -: How does Python implement method overloading? Give an example."
   ]
  },
  {
   "cell_type": "code",
   "execution_count": 8,
   "id": "cc49726b-b167-4c4e-8316-687264a59e81",
   "metadata": {},
   "outputs": [
    {
     "name": "stdout",
     "output_type": "stream",
     "text": [
      "5\n",
      "15\n",
      "30\n",
      "5\n",
      "15\n",
      "30\n",
      "50\n"
     ]
    }
   ],
   "source": [
    "# Ans -:\n",
    "\"\"\"\n",
    "In Python, method overloading (having multiple methods with the same name but different parameters) is not directly supported like in some other languages. Instead, Python handles this by allowing a single method to accept varying numbers of arguments, often using default values or the *args and **kwargs syntax. This approach simulates method overloading by checking the number or type of arguments within a method.\n",
    "\n",
    "Example of Simulating Method Overloading\n",
    "Here’s an example that uses default arguments and *args to achieve a similar effect to method overloading:\n",
    "\n",
    "\"\"\"\n",
    "\n",
    "\n",
    "class Calculator:\n",
    "    def add(self, a, b=0, c=0):\n",
    "        return a + b + c\n",
    "\n",
    "# Create an instance of Calculator\n",
    "calc = Calculator()\n",
    "\n",
    "# Using the add method with different numbers of arguments\n",
    "\n",
    "print(calc.add(5))         \n",
    "print(calc.add(5, 10))     \n",
    "print(calc.add(5, 10, 15))\n",
    "\n",
    "\n",
    "# And \n",
    "\n",
    "class Calculator:\n",
    "    def add(self, *args):\n",
    "        return sum(args)\n",
    "\n",
    "# Create an instance of Calculator\n",
    "calc = Calculator()\n",
    "\n",
    "# Using the add method with varying numbers of arguments\n",
    "print(calc.add(5))         \n",
    "print(calc.add(5, 10))    \n",
    "print(calc.add(5, 10, 15)) \n",
    "print(calc.add(5, 10, 15, 20))"
   ]
  },
  {
   "cell_type": "code",
   "execution_count": 9,
   "id": "72caf0e4-e920-4c84-8741-798d14105a8f",
   "metadata": {},
   "outputs": [],
   "source": [
    "# Ques - 5 -: . What are the three types of access modifiers in Python? How are they denoted?"
   ]
  },
  {
   "cell_type": "code",
   "execution_count": 10,
   "id": "872b5da8-9564-4842-a6cc-162cf4b8fe24",
   "metadata": {},
   "outputs": [
    {
     "name": "stdout",
     "output_type": "stream",
     "text": [
      "Toyota\n",
      "V8\n",
      "12345ABC\n"
     ]
    }
   ],
   "source": [
    "# Ans -:\n",
    "\"\"\"\n",
    "In Python, access modifiers control the visibility of class attributes and methods. While Python doesn't enforce strict access modifiers as some other languages do, it uses naming conventions to indicate three levels of access:\n",
    "\n",
    "Public:\n",
    "\n",
    "Attributes and methods that are intended to be accessible from outside the class.\n",
    "Denoted by: Names without any underscores (name).\n",
    "Usage: These can be accessed and modified from anywhere.\n",
    "\n",
    "\"\"\"\n",
    "\n",
    "# Example:\n",
    "\n",
    "class Car:\n",
    "    def __init__(self, make):\n",
    "        self.make = make  # Public attribute\n",
    "\n",
    "my_car = Car(\"Toyota\")\n",
    "print(my_car.make)  # Accessible from outside\n",
    "\n",
    "\"\"\"\n",
    "Protected:\n",
    "\n",
    "Attributes and methods that are intended to be used only within the class and its subclasses.\n",
    "Denoted by: A single underscore prefix (_name).\n",
    "Usage: These are conventionally treated as \"protected,\" meaning they’re intended for internal use within the class or its subclasses, but Python doesn’t prevent external access if needed.\n",
    "\n",
    "\"\"\"\n",
    "\n",
    "# Example:\n",
    "                                                                                                                                    \n",
    "\n",
    "class Car:\n",
    "    def __init__(self, make):\n",
    "        self._engine = \"V8\"  # Protected attribute\n",
    "\n",
    "my_car = Car(\"Toyota\")\n",
    "print(my_car._engine)  # Still accessible, but treated as internal use only\n",
    "\n",
    "\"\"\"\n",
    "\n",
    "Private:\n",
    "\n",
    "Attributes and methods that are intended to be used only within the class itself.\n",
    "Denoted by: A double underscore prefix (__name).\n",
    "Usage: This makes it more difficult to access from outside the class, as Python applies name mangling to these attributes, making them accessible only by a specific name.\n",
    "\n",
    "\"\"\"\n",
    "    \n",
    "    \n",
    "# Example:\n",
    "\n",
    "class Car:\n",
    "    def __init__(self, make):\n",
    "        self.__serial_number = \"12345ABC\"  # Private attribute\n",
    "\n",
    "    def get_serial(self):\n",
    "        return self.__serial_number  # Accessible within the class\n",
    "\n",
    "my_car = Car(\"Toyota\")\n",
    "# print(my_car.__serial_number)  # This would raise an AttributeError\n",
    "print(my_car._Car__serial_number)  # Accessed with name mangling, but not recommende"
   ]
  },
  {
   "cell_type": "code",
   "execution_count": 11,
   "id": "4734a9f5-e798-4e85-ad76-8073284296d8",
   "metadata": {},
   "outputs": [],
   "source": [
    "# Ques - 6 -: Describe the five types of inheritance in Python. Provide a simple example of multiple inheritance."
   ]
  },
  {
   "cell_type": "code",
   "execution_count": 12,
   "id": "2f5fa56e-a375-44d4-82b6-10f4b1bcd264",
   "metadata": {},
   "outputs": [
    {
     "name": "stdout",
     "output_type": "stream",
     "text": [
      "Can fly\n",
      "Can swim\n",
      "Duck quacks\n"
     ]
    }
   ],
   "source": [
    "# Ans -:\n",
    "\n",
    "# In Python, inheritance allows a class to inherit attributes and methods from another class. There are five main types of inheritance:\n",
    "\n",
    "\"\"\"1. Single Inheritance\n",
    "In single inheritance, a child class inherits from only one parent class.\n",
    "\n",
    "    \n",
    "Example:\n",
    "\n",
    "\"\"\"\n",
    "\n",
    "\n",
    "class Animal:\n",
    "    def speak(self):\n",
    "        print(\"Animal speaks\")\n",
    "\n",
    "class Dog(Animal):\n",
    "    def bark(self):\n",
    "        print(\"Dog barks\")\n",
    "\"\"\"\n",
    "\n",
    "2. Multiple Inheritance\n",
    "In multiple inheritance, a child class inherits from more than one parent class.\n",
    "This is useful when a class needs to combine functionalities from multiple sources.\n",
    "\n",
    "\n",
    "Example:\n",
    "\n",
    "\n",
    "\"\"\"\n",
    "\n",
    "class Flyable:\n",
    "    def fly(self):\n",
    "        print(\"Can fly\")\n",
    "\n",
    "class Swimmable:\n",
    "    def swim(self):\n",
    "        print(\"Can swim\")\n",
    "\n",
    "class Duck(Flyable, Swimmable):\n",
    "    def quack(self):\n",
    "        print(\"Duck quacks\")\n",
    "\n",
    "duck = Duck()\n",
    "duck.fly()  # Outputs: Can fly\n",
    "duck.swim() # Outputs: Can swim\n",
    "duck.quack() # Outputs: Duck quacks\n",
    "\n",
    "\n",
    "\"\"\"\n",
    "3. Multilevel Inheritance\n",
    "In multilevel inheritance, a class inherits from another class that itself is a subclass of another class, creating a hierarchy of inheritance.\n",
    "\n",
    "\n",
    "Example:\n",
    "\n",
    "\"\"\"\n",
    "class Animal:\n",
    "    def speak(self):\n",
    "        print(\"Animal speaks\")\n",
    "\n",
    "class Mammal(Animal):\n",
    "    def has_fur(self):\n",
    "        print(\"Has fur\")\n",
    "\n",
    "class Dog(Mammal):\n",
    "    def bark(self):\n",
    "        print(\"Dog barks\")\n",
    "\n",
    "\n",
    "\"\"\"\n",
    "4. Hierarchical Inheritance\n",
    "In hierarchical inheritance, multiple classes inherit from a single parent class.\n",
    "\n",
    "\n",
    "Example:\n",
    "\n",
    "\"\"\"\n",
    "\n",
    "\n",
    "class Animal:\n",
    "    def speak(self):\n",
    "        print(\"Animal speaks\")\n",
    "\n",
    "class Dog(Animal):\n",
    "    def bark(self):\n",
    "        print(\"Dog barks\")\n",
    "\n",
    "class Cat(Animal):\n",
    "    def meow(self):\n",
    "        print(\"Cat meows\")\n",
    "\n",
    "\n",
    "\"\"\"\n",
    "5. Hybrid Inheritance\n",
    "Hybrid inheritance is a combination of two or more types of inheritance. It can include single, multiple, and multilevel inheritance, depending on the hierarchy.\n",
    "\n",
    "    \n",
    "Example:\n",
    "\n",
    "\"\"\"\n",
    "class Animal:\n",
    "    def speak(self):\n",
    "        print(\"Animal speaks\")\n",
    "\n",
    "class Mammal(Animal):\n",
    "    def has_fur(self):\n",
    "        print(\"Has fur\")\n",
    "\n",
    "class Bird(Animal):\n",
    "    def has_feathers(self):\n",
    "        print(\"Has feathers\")\n",
    "\n",
    "class Bat(Mammal, Bird):\n",
    "    def echo(self):\n",
    "        print(\"Bat uses echolocation\")"
   ]
  },
  {
   "cell_type": "code",
   "execution_count": 13,
   "id": "8485fe7d-84e6-4f5a-a8ec-94449a51da83",
   "metadata": {},
   "outputs": [],
   "source": [
    "# Ques - 7 -: What is the Method Resolution Order (MRO) in Python? How can you retrieve it programmatically?"
   ]
  },
  {
   "cell_type": "code",
   "execution_count": 14,
   "id": "cd172225-d896-4f92-b50a-c3a21509d330",
   "metadata": {},
   "outputs": [
    {
     "name": "stdout",
     "output_type": "stream",
     "text": [
      "(<class '__main__.D'>, <class '__main__.B'>, <class '__main__.C'>, <class '__main__.A'>, <class 'object'>)\n",
      "[<class '__main__.D'>, <class '__main__.B'>, <class '__main__.C'>, <class '__main__.A'>, <class 'object'>]\n"
     ]
    }
   ],
   "source": [
    "# Ans -:\n",
    "\n",
    "\n",
    "\"\"\"\n",
    "The Method Resolution Order (MRO) in Python defines the sequence in which classes are searched when a method or attribute is accessed. This order is especially important in multiple inheritance scenarios, as it ensures a well-defined sequence for resolving method calls to prevent ambiguity and conflicts.\n",
    "\n",
    "Python uses the C3 linearization algorithm (also known as the C3 superclass linearization) to determine this order. The MRO follows these main rules:\n",
    "\n",
    "Depth-First Search: The child class is prioritized first.\n",
    "Left-to-Right: Among parent classes, those defined earlier in the class declaration are prioritized.\n",
    "No Repetition: Classes do not appear more than once in the MRO list.\n",
    "The MRO is represented as a list in the order of method resolution.\n",
    "\n",
    "Retrieving MRO Programmatically\n",
    "You can retrieve the MRO of a class in two ways:\n",
    "\n",
    "Using the __mro__ attribute:\n",
    "\n",
    "\n",
    "Each class has an __mro__ attribute that stores a tuple representing the MRO sequence.\n",
    "\n",
    "\n",
    "\"\"\"\n",
    "# Example:\n",
    "\n",
    "\n",
    "\n",
    "class A:\n",
    "    pass\n",
    "\n",
    "class B(A):\n",
    "    pass\n",
    "\n",
    "class C(A):\n",
    "    pass\n",
    "\n",
    "class D(B, C):\n",
    "    pass\n",
    "\n",
    "print(D.__mro__)\n",
    "\"\"\"\n",
    "\n",
    "Using the mro() method:\n",
    "\n",
    "The mro() method, when called on a class, returns a list with the same sequence as __mro__.\n",
    "\n",
    "\"\"\"\n",
    "# Example:\n",
    "\n",
    "print(D.mro())\n"
   ]
  },
  {
   "cell_type": "code",
   "execution_count": 15,
   "id": "a4580a7d-2b1c-4ad1-9093-231ed7393448",
   "metadata": {},
   "outputs": [],
   "source": [
    "# Ques - 8 -:  Create an abstract base class `Shape` with an abstract method `area()`. Then create two subclasses `Circle` and `Rectangle` that implement the `area()` method."
   ]
  },
  {
   "cell_type": "code",
   "execution_count": 16,
   "id": "36b4f53f-9089-4ae4-9372-e51ee02f500c",
   "metadata": {},
   "outputs": [
    {
     "name": "stdout",
     "output_type": "stream",
     "text": [
      "Circle area: 78.54\n",
      "Rectangle area: 24\n"
     ]
    }
   ],
   "source": [
    "# Ans -:\n",
    "\n",
    "\n",
    "\"\"\"To create an abstract base class Shape with an abstract method area(), we can use Python's abc module, which allows us to define abstract base classes. An abstract base class contains one or more abstract methods that must be implemented by any subclass.\n",
    "\n",
    "Here’s an example:\n",
    "\"\"\"\n",
    "\n",
    "\n",
    "\n",
    "from abc import ABC, abstractmethod\n",
    "import math\n",
    "\n",
    "# Define the abstract base class\n",
    "class Shape(ABC):\n",
    "    \n",
    "    @abstractmethod\n",
    "    def area(self):\n",
    "        \"\"\"Calculate the area of the shape\"\"\"\n",
    "        pass\n",
    "\n",
    "# Subclass Circle that implements the area method\n",
    "class Circle(Shape):\n",
    "    \n",
    "    def __init__(self, radius):\n",
    "        self.radius = radius\n",
    "\n",
    "    def area(self):\n",
    "        return math.pi * (self.radius ** 2)\n",
    "\n",
    "# Subclass Rectangle that implements the area method\n",
    "class Rectangle(Shape):\n",
    "    \n",
    "    def __init__(self, width, height):\n",
    "        self.width = width\n",
    "        self.height = height\n",
    "\n",
    "    def area(self):\n",
    "        return self.width * self.height\n",
    "\n",
    "# Examples of creating shapes and calculating areas\n",
    "circle = Circle(5)\n",
    "rectangle = Rectangle(4, 6)\n",
    "\n",
    "print(f\"Circle area: {circle.area():.2f}\")    \n",
    "print(f\"Rectangle area: {rectangle.area()}\")"
   ]
  },
  {
   "cell_type": "code",
   "execution_count": 17,
   "id": "ca4a4d6f-c2e4-402a-85c4-c9109b72c887",
   "metadata": {},
   "outputs": [],
   "source": [
    "# Ques - 9 -:  Demonstrate polymorphism by creating a function that can work with different shape objects to calculate and print their areas."
   ]
  },
  {
   "cell_type": "code",
   "execution_count": 18,
   "id": "fdde633f-d675-4d46-9b83-bfc39f039cae",
   "metadata": {},
   "outputs": [
    {
     "name": "stdout",
     "output_type": "stream",
     "text": [
      "The area is: 78.53981633974483\n",
      "The area is: 24\n",
      "The area is: 10.5\n"
     ]
    }
   ],
   "source": [
    "# Ans - :\n",
    "\"\"\"\n",
    "Demonstrating Polymorphism with Shapes\n",
    "Let build upon the previous example where we created an abstract base class Shape and two subclasses Circle and Rectangle that implement the area() method. We'll create a function that can accept any Shape object and print its area, showcasing polymorphism.\n",
    "\n",
    "\"\"\"\n",
    "from abc import ABC, abstractmethod\n",
    "import math\n",
    "\n",
    "# Abstract Base Class\n",
    "class Shape(ABC):\n",
    "    \n",
    "    @abstractmethod\n",
    "    def area(self):\n",
    "        \"\"\"Calculate the area of the shape\"\"\"\n",
    "        pass\n",
    "\n",
    "# Subclass Circle\n",
    "class Circle(Shape):\n",
    "    \n",
    "    def __init__(self, radius):\n",
    "        self.radius = radius\n",
    "\n",
    "    def area(self):\n",
    "        return math.pi * (self.radius ** 2)\n",
    "\n",
    "# Subclass Rectangle\n",
    "class Rectangle(Shape):\n",
    "    \n",
    "    def __init__(self, width, height):\n",
    "        self.width = width\n",
    "        self.height = height\n",
    "\n",
    "    def area(self):\n",
    "        return self.width * self.height\n",
    "\n",
    "# Subclass Triangle\n",
    "class Triangle(Shape):\n",
    "    \n",
    "    def __init__(self, base, height):\n",
    "        self.base = base\n",
    "        self.height = height\n",
    "\n",
    "    def area(self):\n",
    "        return 0.5 * self.base * self.height\n",
    "\n",
    "# Function to print the area of any shape\n",
    "def print_area(shape):\n",
    "    print(f\"The area is: {shape.area()}\")\n",
    "\n",
    "# Creating instances of different shapes\n",
    "circle = Circle(radius=5)\n",
    "rectangle = Rectangle(width=4, height=6)\n",
    "triangle = Triangle(base=3, height=7)\n",
    "\n",
    "# Using the print_area function with different shapes\n",
    "print_area(circle)    \n",
    "print_area(rectangle)   \n",
    "print_area(triangle)   "
   ]
  },
  {
   "cell_type": "code",
   "execution_count": 19,
   "id": "58e4c327-8ebd-4cbd-8569-e74018300e50",
   "metadata": {},
   "outputs": [],
   "source": [
    "# Ques - 10 -:  Implement encapsulation in a `BankAccount` class with private attributes for `balance` and `account_number`. Include methods for deposit, withdrawal, and balance inquiry."
   ]
  },
  {
   "cell_type": "code",
   "execution_count": 20,
   "id": "451423af-99ac-40a3-b3cf-58b744911ebf",
   "metadata": {},
   "outputs": [
    {
     "name": "stdout",
     "output_type": "stream",
     "text": [
      "₹1000 deposited successfully.\n",
      "₹2000 withdrawn successfully.\n",
      "Your current balance is ₹4000.\n"
     ]
    }
   ],
   "source": [
    "# Ans -: \n",
    "\n",
    "class BankAccount:\n",
    "    def __init__(self, account_number, initial_balance=0):\n",
    "        # Private attributes (encapsulation)\n",
    "        self.__account_number = account_number\n",
    "        self.__balance = initial_balance\n",
    "\n",
    "    # Method to deposit money\n",
    "    def deposit(self, amount):\n",
    "        if amount > 0:\n",
    "            self.__balance += amount\n",
    "            print(f\"₹{amount} deposited successfully.\")\n",
    "        else:\n",
    "            print(\"Invalid deposit amount. Please enter a positive value.\")\n",
    "\n",
    "    # Method to withdraw money\n",
    "    def withdraw(self, amount):\n",
    "        if amount > self.__balance:\n",
    "            print(\"Insufficient balance!\")\n",
    "        elif amount <= 0:\n",
    "            print(\"Invalid withdrawal amount. Please enter a positive value.\")\n",
    "        else:\n",
    "            self.__balance -= amount\n",
    "            print(f\"₹{amount} withdrawn successfully.\")\n",
    "\n",
    "    # Method to check balance\n",
    "    def check_balance(self):\n",
    "        return f\"Your current balance is ₹{self.__balance}.\"\n",
    "\n",
    "# Example usage:\n",
    "my_account = BankAccount(account_number=\"123456789\", initial_balance=5000)\n",
    "\n",
    "# Perform actions\n",
    "my_account.deposit(1000)       \n",
    "my_account.withdraw(2000)     \n",
    "print(my_account.check_balance())\n"
   ]
  },
  {
   "cell_type": "code",
   "execution_count": 21,
   "id": "2ed66ce9-e81b-4254-b03a-a9f7dc0d5e9d",
   "metadata": {},
   "outputs": [],
   "source": [
    "# Ques - 11 -: Write a class that overrides the `__str__` and `__add__` magic methods. What will these methods allow you to do?"
   ]
  },
  {
   "cell_type": "code",
   "execution_count": 22,
   "id": "141b78f3-689b-4169-b364-a67a7a36d4d7",
   "metadata": {},
   "outputs": [
    {
     "name": "stdout",
     "output_type": "stream",
     "text": [
      "CustomNumber: 10\n",
      "CustomNumber: 30\n"
     ]
    }
   ],
   "source": [
    "# Ans -: \n",
    "\n",
    "class CustomNumber:\n",
    "    def __init__(self, value):\n",
    "        self.value = value\n",
    "\n",
    "    # Override the __str__ method to return a readable string representation\n",
    "    def __str__(self):\n",
    "        return f\"CustomNumber: {self.value}\"\n",
    "\n",
    "    # Override the __add__ method to define addition behavior\n",
    "    def __add__(self, other):\n",
    "        if isinstance(other, CustomNumber):\n",
    "            return CustomNumber(self.value + other.value)\n",
    "        else:\n",
    "            raise TypeError(\"Operands must be of type CustomNumber.\")\n",
    "\n",
    "# Example usage\n",
    "num1 = CustomNumber(10)\n",
    "num2 = CustomNumber(20)\n",
    "\n",
    "# Using __str__ (happens when you print the object)\n",
    "print(num1)  \n",
    "\n",
    "# Using __add__ (happens when you use the + operator)\n",
    "num3 = num1 + num2\n",
    "print(num3) \n"
   ]
  },
  {
   "cell_type": "code",
   "execution_count": 23,
   "id": "3cd1483e-5c0d-4d88-948a-b5f03ced3b76",
   "metadata": {},
   "outputs": [],
   "source": [
    "# Ques - 12 -: Create a decorator that measures and prints the execution time of a function."
   ]
  },
  {
   "cell_type": "code",
   "execution_count": 24,
   "id": "084b393e-7da1-4fa3-9c11-6b74a612b842",
   "metadata": {},
   "outputs": [
    {
     "name": "stdout",
     "output_type": "stream",
     "text": [
      "Execution time of 'example_function': 0.1252 seconds\n",
      "Result: 499999500000\n"
     ]
    }
   ],
   "source": [
    "# Ans -:\n",
    "\n",
    "import time\n",
    "\n",
    "# Define the decorator\n",
    "def measure_time(func):\n",
    "    def wrapper(*args, **kwargs):\n",
    "        start_time = time.time()  # Record the start time\n",
    "        result = func(*args, **kwargs)  # Execute the function\n",
    "        end_time = time.time()  # Record the end time\n",
    "        execution_time = end_time - start_time  # Calculate execution time\n",
    "        print(f\"Execution time of '{func.__name__}': {execution_time:.4f} seconds\")\n",
    "        return result  # Return the original function's result\n",
    "    return wrapper\n",
    "\n",
    "# Example usage of the decorator\n",
    "@measure_time\n",
    "def example_function(n):\n",
    "    # Simulate a time-consuming task\n",
    "    total = 0\n",
    "    for i in range(n):\n",
    "        total += i\n",
    "    return total\n",
    "\n",
    "# Call the function\n",
    "result = example_function(1000000)\n",
    "print(f\"Result: {result}\")\n"
   ]
  },
  {
   "cell_type": "code",
   "execution_count": 25,
   "id": "a5b0e025-11da-4972-8476-a830ed8a48e2",
   "metadata": {},
   "outputs": [],
   "source": [
    "# Ques - 13 -: Explain the concept of the Diamond Problem in multiple inheritance. How does Python resolve it?"
   ]
  },
  {
   "cell_type": "markdown",
   "id": "ec6bd11d-dcb4-4f8c-956f-4fae55b86801",
   "metadata": {},
   "source": [
    "Ans -::\n",
    "\n",
    "Concept of the Diamond Problem:\n",
    "\n",
    "The Diamond Problem occurs in multiple inheritance when a class inherits from two classes that have a common base class. It creates ambiguity about which method or attribute to inherit from the common base class. This situation forms a diamond-shaped inheritance structure, hence the name.\n",
    "\n",
    "Example of the Diamond Problem:\n",
    "\n",
    "\n",
    "\n",
    "A\n",
    "    \n",
    "   / \\\n",
    "   \n",
    "  B   C\n",
    "  \n",
    "   \\ /\n",
    "   \n",
    "D\n",
    "\n",
    "    \n",
    ".Class B and class C both inherit from class A.\n",
    "\n",
    ".Class D inherits from both B and C.\n",
    "\n",
    ".If class D calls a method or accesses an attribute present in class A, it’s unclear whether it should use the version inherited through B or C.\n",
    "\n",
    "How Python Resolves the Diamond Problem:\n",
    "\n",
    "Python uses the Method Resolution Order (MRO) and the C3 Linearization algorithm to resolve ambiguity in multiple inheritance.\n",
    "\n",
    "\n",
    "Key Points About MRO in Python:\n",
    "\n",
    ".MRO Sequence: Python determines a linear hierarchy of classes to decide the order in which methods or attributes are resolved.\n",
    "\n",
    ".Depth-First, Left-to-Right: Python prioritizes the depth-first search but considers the order of inheritance from left to right as declared in the\n",
    "class definition.\n",
    "\n",
    ".Avoiding Duplication: Each class in the hierarchy is considered only once in the MRO.\n"
   ]
  },
  {
   "cell_type": "code",
   "execution_count": 26,
   "id": "024d188a-63a9-4242-820a-caf491ead9d9",
   "metadata": {},
   "outputs": [
    {
     "name": "stdout",
     "output_type": "stream",
     "text": [
      "Method from B\n"
     ]
    }
   ],
   "source": [
    "class A:\n",
    "    def display(self):\n",
    "        print(\"Method from A\")\n",
    "\n",
    "class B(A):\n",
    "    def display(self):\n",
    "        print(\"Method from B\")\n",
    "\n",
    "class C(A):\n",
    "    def display(self):\n",
    "        print(\"Method from C\")\n",
    "\n",
    "class D(B, C):\n",
    "    pass\n",
    "\n",
    "# Create an instance of class D\n",
    "d = D()\n",
    "d.display()\n"
   ]
  },
  {
   "cell_type": "code",
   "execution_count": 27,
   "id": "4a066b94-14bc-4f02-91f6-d5fdfb87d094",
   "metadata": {},
   "outputs": [],
   "source": [
    "# Ques - 14 -: Write a class method that keeps track of the number of instances created from a class."
   ]
  },
  {
   "cell_type": "code",
   "execution_count": 28,
   "id": "b465414d-001f-48d3-9f67-e023cfe82b46",
   "metadata": {},
   "outputs": [
    {
     "name": "stdout",
     "output_type": "stream",
     "text": [
      "Number of instances created: 3\n"
     ]
    }
   ],
   "source": [
    "# Ans -:\n",
    "\n",
    "class InstanceCounter:\n",
    "    # Class attribute to keep track of the instance count\n",
    "    instance_count = 0\n",
    "\n",
    "    def __init__(self):\n",
    "        # Increment the count each time an instance is created\n",
    "        InstanceCounter.instance_count += 1\n",
    "\n",
    "    @classmethod\n",
    "    def get_instance_count(cls):\n",
    "        # Return the current instance count\n",
    "        return f\"Number of instances created: {cls.instance_count}\"\n",
    "\n",
    "# Example usage:\n",
    "obj1 = InstanceCounter()\n",
    "obj2 = InstanceCounter()\n",
    "obj3 = InstanceCounter()\n",
    "\n",
    "# Call the class method to check the instance count\n",
    "print(InstanceCounter.get_instance_count())\n"
   ]
  },
  {
   "cell_type": "code",
   "execution_count": 29,
   "id": "19d22b37-f7b4-4bd6-be8b-b0837e3f8f50",
   "metadata": {},
   "outputs": [],
   "source": [
    "# Ques - 15 -: Implement a static method in a class that checks if a given year is a leap year."
   ]
  },
  {
   "cell_type": "code",
   "execution_count": 30,
   "id": "f98feb46-1a83-4ee0-82ca-b87be51dc29e",
   "metadata": {},
   "outputs": [
    {
     "name": "stdout",
     "output_type": "stream",
     "text": [
      "True\n",
      "False\n",
      "True\n"
     ]
    }
   ],
   "source": [
    "# Ans -:\n",
    "\n",
    "class YearChecker:\n",
    "    @staticmethod\n",
    "    def is_leap_year(year):\n",
    "        # Check if the year is a leap year\n",
    "        if (year % 4 == 0 and year % 100 != 0) or (year % 400 == 0):\n",
    "            return True\n",
    "        return False\n",
    "\n",
    "# Example usage:\n",
    "print(YearChecker.is_leap_year(2020)) \n",
    "print(YearChecker.is_leap_year(1900))  \n",
    "print(YearChecker.is_leap_year(2000))\n"
   ]
  },
  {
   "cell_type": "code",
   "execution_count": null,
   "id": "d707b796-47a3-414c-9239-cd06a8ac4e6c",
   "metadata": {},
   "outputs": [],
   "source": []
  }
 ],
 "metadata": {
  "kernelspec": {
   "display_name": "Python 3 (ipykernel)",
   "language": "python",
   "name": "python3"
  },
  "language_info": {
   "codemirror_mode": {
    "name": "ipython",
    "version": 3
   },
   "file_extension": ".py",
   "mimetype": "text/x-python",
   "name": "python",
   "nbconvert_exporter": "python",
   "pygments_lexer": "ipython3",
   "version": "3.12.4"
  }
 },
 "nbformat": 4,
 "nbformat_minor": 5
}
